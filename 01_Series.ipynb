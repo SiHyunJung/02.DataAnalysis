{
  "nbformat": 4,
  "nbformat_minor": 0,
  "metadata": {
    "colab": {
      "name": "01. Series.ipynb",
      "provenance": [],
      "authorship_tag": "ABX9TyMPaPbqizcETOu1VYzj7kuZ"
    },
    "kernelspec": {
      "name": "python3",
      "display_name": "Python 3"
    },
    "language_info": {
      "name": "python"
    }
  },
  "cells": [
    {
      "cell_type": "markdown",
      "metadata": {
        "id": "NLhI7er9rUwM"
      },
      "source": [
        "# Pandas - Series"
      ]
    },
    {
      "cell_type": "code",
      "metadata": {
        "id": "X9Bv5T5SrQOf"
      },
      "source": [
        "import numpy as np\n",
        "import pandas as pd"
      ],
      "execution_count": null,
      "outputs": []
    },
    {
      "cell_type": "markdown",
      "metadata": {
        "id": "DwmJ115Trghk"
      },
      "source": [
        "시리즈 생성"
      ]
    },
    {
      "cell_type": "code",
      "metadata": {
        "colab": {
          "base_uri": "https://localhost:8080/"
        },
        "id": "gJ-U2Q2WrgBL",
        "outputId": "97e3e5fe-6d8b-4c93-d793-af1c2054c72d"
      },
      "source": [
        "s = pd.Series([9904312, 3448737, 2890451, 2466052],\n",
        "              index=[\"서울\", \"부산\", \"인천\", \"대구\"])\n",
        "s"
      ],
      "execution_count": null,
      "outputs": [
        {
          "output_type": "execute_result",
          "data": {
            "text/plain": [
              "서울    9904312\n",
              "부산    3448737\n",
              "인천    2890451\n",
              "대구    2466052\n",
              "dtype: int64"
            ]
          },
          "metadata": {
            "tags": []
          },
          "execution_count": 2
        }
      ]
    },
    {
      "cell_type": "code",
      "metadata": {
        "colab": {
          "base_uri": "https://localhost:8080/"
        },
        "id": "1CSe0ugj7HFm",
        "outputId": "0eeec221-3ede-4447-9c12-c27190a0b33a"
      },
      "source": [
        "pd.Series(range(10, 14))"
      ],
      "execution_count": null,
      "outputs": [
        {
          "output_type": "execute_result",
          "data": {
            "text/plain": [
              "0    10\n",
              "1    11\n",
              "2    12\n",
              "3    13\n",
              "dtype: int64"
            ]
          },
          "metadata": {
            "tags": []
          },
          "execution_count": 3
        }
      ]
    },
    {
      "cell_type": "code",
      "metadata": {
        "colab": {
          "base_uri": "https://localhost:8080/"
        },
        "id": "r1TAUPqbx7Sq",
        "outputId": "79e11796-9c4b-418b-fe20-2b1855ec601a"
      },
      "source": [
        "# 시리즈의 값 - 넘파이 배열\n",
        "s.values"
      ],
      "execution_count": null,
      "outputs": [
        {
          "output_type": "execute_result",
          "data": {
            "text/plain": [
              "array([9904312, 3448737, 2890451, 2466052])"
            ]
          },
          "metadata": {
            "tags": []
          },
          "execution_count": 4
        }
      ]
    },
    {
      "cell_type": "code",
      "metadata": {
        "colab": {
          "base_uri": "https://localhost:8080/"
        },
        "id": "7S_M-0dox_wl",
        "outputId": "70c97dea-c403-42eb-b902-7f2e04cbff2f"
      },
      "source": [
        "# 시리즈의 인덱스\n",
        "s.index"
      ],
      "execution_count": null,
      "outputs": [
        {
          "output_type": "execute_result",
          "data": {
            "text/plain": [
              "Index(['서울', '부산', '인천', '대구'], dtype='object')"
            ]
          },
          "metadata": {
            "tags": []
          },
          "execution_count": 5
        }
      ]
    },
    {
      "cell_type": "code",
      "metadata": {
        "colab": {
          "base_uri": "https://localhost:8080/"
        },
        "id": "h5_6v2pYyC47",
        "outputId": "b4b5ab43-8c1b-4520-96ef-605c8556bb4d"
      },
      "source": [
        "s.name = '인구'\n",
        "s.index.name = '도시'\n",
        "s"
      ],
      "execution_count": null,
      "outputs": [
        {
          "output_type": "execute_result",
          "data": {
            "text/plain": [
              "도시\n",
              "서울    9904312\n",
              "부산    3448737\n",
              "인천    2890451\n",
              "대구    2466052\n",
              "Name: 인구, dtype: int64"
            ]
          },
          "metadata": {
            "tags": []
          },
          "execution_count": 6
        }
      ]
    },
    {
      "cell_type": "markdown",
      "metadata": {
        "id": "mJfPugyKyJN9"
      },
      "source": [
        "시리즈의 연산"
      ]
    },
    {
      "cell_type": "markdown",
      "metadata": {
        "id": "KyBoqRamAqwu"
      },
      "source": [
        "* 벡터화 연산 가능 (넘파이 동일기능)\n",
        "* 시리즈 값에만 적용, 인덱스 무변화"
      ]
    },
    {
      "cell_type": "code",
      "metadata": {
        "colab": {
          "base_uri": "https://localhost:8080/"
        },
        "id": "783RjgiryIs3",
        "outputId": "53a21ffb-c7dd-4856-a5b8-d7b62c2ca9f1"
      },
      "source": [
        "s / 1000000"
      ],
      "execution_count": null,
      "outputs": [
        {
          "output_type": "execute_result",
          "data": {
            "text/plain": [
              "도시\n",
              "서울    9.904312\n",
              "부산    3.448737\n",
              "인천    2.890451\n",
              "대구    2.466052\n",
              "Name: 인구, dtype: float64"
            ]
          },
          "metadata": {
            "tags": []
          },
          "execution_count": 7
        }
      ]
    },
    {
      "cell_type": "markdown",
      "metadata": {
        "id": "zU6UQMnlyllb"
      },
      "source": [
        "시리즈 인덱싱"
      ]
    },
    {
      "cell_type": "code",
      "metadata": {
        "colab": {
          "base_uri": "https://localhost:8080/"
        },
        "id": "zvzI6xOUyq16",
        "outputId": "7b4fbe4f-b3a2-4ef4-c9b3-9df72f77dffc"
      },
      "source": [
        "s[1], s[\"부산\"]"
      ],
      "execution_count": null,
      "outputs": [
        {
          "output_type": "execute_result",
          "data": {
            "text/plain": [
              "(3448737, 3448737)"
            ]
          },
          "metadata": {
            "tags": []
          },
          "execution_count": 8
        }
      ]
    },
    {
      "cell_type": "code",
      "metadata": {
        "colab": {
          "base_uri": "https://localhost:8080/"
        },
        "id": "vK6w2fw_zKrZ",
        "outputId": "8abc3cde-a6c6-41c8-d222-db7a047ecb3b"
      },
      "source": [
        "# fancy indexing\n",
        "s[[0,3,1]]"
      ],
      "execution_count": null,
      "outputs": [
        {
          "output_type": "execute_result",
          "data": {
            "text/plain": [
              "도시\n",
              "서울    9904312\n",
              "대구    2466052\n",
              "부산    3448737\n",
              "Name: 인구, dtype: int64"
            ]
          },
          "metadata": {
            "tags": []
          },
          "execution_count": 9
        }
      ]
    },
    {
      "cell_type": "code",
      "metadata": {
        "colab": {
          "base_uri": "https://localhost:8080/"
        },
        "id": "Q7FsVVkizg2F",
        "outputId": "0217b4a7-00eb-4614-8224-8d68b993e213"
      },
      "source": [
        "# slicing\n",
        "s[1:3]"
      ],
      "execution_count": null,
      "outputs": [
        {
          "output_type": "execute_result",
          "data": {
            "text/plain": [
              "도시\n",
              "부산    3448737\n",
              "인천    2890451\n",
              "Name: 인구, dtype: int64"
            ]
          },
          "metadata": {
            "tags": []
          },
          "execution_count": 10
        }
      ]
    },
    {
      "cell_type": "code",
      "metadata": {
        "colab": {
          "base_uri": "https://localhost:8080/"
        },
        "id": "A6LQFEeMzwLr",
        "outputId": "aedb6c54-39e8-4982-eced-9b8862f590eb"
      },
      "source": [
        "# 문자인덱스로 슬라이싱 하면 마지막(대구)도 포함\n",
        "s['부산':'대구']"
      ],
      "execution_count": null,
      "outputs": [
        {
          "output_type": "execute_result",
          "data": {
            "text/plain": [
              "도시\n",
              "부산    3448737\n",
              "인천    2890451\n",
              "대구    2466052\n",
              "Name: 인구, dtype: int64"
            ]
          },
          "metadata": {
            "tags": []
          },
          "execution_count": 11
        }
      ]
    },
    {
      "cell_type": "code",
      "metadata": {
        "colab": {
          "base_uri": "https://localhost:8080/"
        },
        "id": "BbNuFbJPzyhK",
        "outputId": "fc42387b-606a-4d94-8787-a0b71f5209b7"
      },
      "source": [
        "# 필터링\n",
        "s[(250000 < s) & (s < 3000000)]       # s[2500000 < s 3000000] 은 사용불가"
      ],
      "execution_count": null,
      "outputs": [
        {
          "output_type": "execute_result",
          "data": {
            "text/plain": [
              "도시\n",
              "인천    2890451\n",
              "대구    2466052\n",
              "Name: 인구, dtype: int64"
            ]
          },
          "metadata": {
            "tags": []
          },
          "execution_count": 12
        }
      ]
    },
    {
      "cell_type": "code",
      "metadata": {
        "colab": {
          "base_uri": "https://localhost:8080/"
        },
        "id": "oO4IghSB3cpF",
        "outputId": "8f84492a-5966-4d45-c5e0-904ed8afab9c"
      },
      "source": [
        "s0 = pd.Series(range(3), index=[\"a\", \"b\", \"c\"])\n",
        "s0"
      ],
      "execution_count": null,
      "outputs": [
        {
          "output_type": "execute_result",
          "data": {
            "text/plain": [
              "a    0\n",
              "b    1\n",
              "c    2\n",
              "dtype: int64"
            ]
          },
          "metadata": {
            "tags": []
          },
          "execution_count": 13
        }
      ]
    },
    {
      "cell_type": "code",
      "metadata": {
        "id": "xNaC5oio01ud",
        "colab": {
          "base_uri": "https://localhost:8080/"
        },
        "outputId": "025aaf7f-1863-47dc-c19f-f1a43e9d9d4c"
      },
      "source": [
        "s0.a"
      ],
      "execution_count": null,
      "outputs": [
        {
          "output_type": "execute_result",
          "data": {
            "text/plain": [
              "0"
            ]
          },
          "metadata": {
            "tags": []
          },
          "execution_count": 14
        }
      ]
    },
    {
      "cell_type": "code",
      "metadata": {
        "colab": {
          "base_uri": "https://localhost:8080/"
        },
        "id": "CBz02gvTdy6q",
        "outputId": "38ac3059-d0ad-49b4-bddb-7a995a357bc6"
      },
      "source": [
        "s0.b"
      ],
      "execution_count": null,
      "outputs": [
        {
          "output_type": "execute_result",
          "data": {
            "text/plain": [
              "1"
            ]
          },
          "metadata": {
            "tags": []
          },
          "execution_count": 15
        }
      ]
    },
    {
      "cell_type": "markdown",
      "metadata": {
        "id": "21PxyNtW3XtB"
      },
      "source": [
        "시리즈와 딕셔너리"
      ]
    },
    {
      "cell_type": "code",
      "metadata": {
        "id": "W9fyf4n7dxek"
      },
      "source": [
        ""
      ],
      "execution_count": null,
      "outputs": []
    },
    {
      "cell_type": "code",
      "metadata": {
        "colab": {
          "base_uri": "https://localhost:8080/"
        },
        "id": "3cgnamuS3WTT",
        "outputId": "2f3ff58b-5686-4fef-c2b7-74ee12755303"
      },
      "source": [
        "'서울' in s, '대전' in s"
      ],
      "execution_count": null,
      "outputs": [
        {
          "output_type": "execute_result",
          "data": {
            "text/plain": [
              "(True, False)"
            ]
          },
          "metadata": {
            "tags": []
          },
          "execution_count": 16
        }
      ]
    },
    {
      "cell_type": "code",
      "metadata": {
        "colab": {
          "base_uri": "https://localhost:8080/"
        },
        "id": "EKzB-0A233X7",
        "outputId": "9e46d47f-6b27-4214-b8df-f5072c26e4c2"
      },
      "source": [
        "s2 = pd.Series({\"서울\": 9631482, \"부산\": 3393191, \"인천\": 2632035, \"대전\": 1490158})\n",
        "s2"
      ],
      "execution_count": null,
      "outputs": [
        {
          "output_type": "execute_result",
          "data": {
            "text/plain": [
              "서울    9631482\n",
              "부산    3393191\n",
              "인천    2632035\n",
              "대전    1490158\n",
              "dtype: int64"
            ]
          },
          "metadata": {
            "tags": []
          },
          "execution_count": 17
        }
      ]
    },
    {
      "cell_type": "markdown",
      "metadata": {
        "id": "OVbhuCjud9Hm"
      },
      "source": [
        "## 인덱스 기반 연산"
      ]
    },
    {
      "cell_type": "code",
      "metadata": {
        "colab": {
          "base_uri": "https://localhost:8080/"
        },
        "id": "-oT-m1LkeC8S",
        "outputId": "8fcd13b0-72d2-4b04-effb-4abb5e59d8fd"
      },
      "source": [
        "ds = s - s2\n",
        "ds"
      ],
      "execution_count": null,
      "outputs": [
        {
          "output_type": "execute_result",
          "data": {
            "text/plain": [
              "대구         NaN\n",
              "대전         NaN\n",
              "부산     55546.0\n",
              "서울    272830.0\n",
              "인천    258416.0\n",
              "dtype: float64"
            ]
          },
          "metadata": {
            "tags": []
          },
          "execution_count": 18
        }
      ]
    },
    {
      "cell_type": "code",
      "metadata": {
        "colab": {
          "base_uri": "https://localhost:8080/"
        },
        "id": "TyISzqEF4IBg",
        "outputId": "2158325d-1701-4238-e1b7-50824e062c6c"
      },
      "source": [
        "s.values - s2.values"
      ],
      "execution_count": null,
      "outputs": [
        {
          "output_type": "execute_result",
          "data": {
            "text/plain": [
              "array([272830,  55546, 258416, 975894])"
            ]
          },
          "metadata": {
            "tags": []
          },
          "execution_count": 19
        }
      ]
    },
    {
      "cell_type": "code",
      "metadata": {
        "id": "kH4Iu5Se4LPK"
      },
      "source": [
        "rs = (s-s2)/s2 * 100"
      ],
      "execution_count": null,
      "outputs": []
    },
    {
      "cell_type": "code",
      "metadata": {
        "colab": {
          "base_uri": "https://localhost:8080/"
        },
        "id": "IIyA8Vk34OIg",
        "outputId": "b5d100c9-180a-400b-e1c6-f3f726fff0b2"
      },
      "source": [
        "rs.notnull()"
      ],
      "execution_count": null,
      "outputs": [
        {
          "output_type": "execute_result",
          "data": {
            "text/plain": [
              "대구    False\n",
              "대전    False\n",
              "부산     True\n",
              "서울     True\n",
              "인천     True\n",
              "dtype: bool"
            ]
          },
          "metadata": {
            "tags": []
          },
          "execution_count": 22
        }
      ]
    },
    {
      "cell_type": "code",
      "metadata": {
        "id": "beSTyYNM4QIv",
        "colab": {
          "base_uri": "https://localhost:8080/"
        },
        "outputId": "70122ae4-754a-4d1a-bf3d-5d89c1b5cf7a"
      },
      "source": [
        "rs[rs.notnull()]"
      ],
      "execution_count": null,
      "outputs": [
        {
          "output_type": "execute_result",
          "data": {
            "text/plain": [
              "부산    1.636984\n",
              "서울    2.832690\n",
              "인천    9.818107\n",
              "dtype: float64"
            ]
          },
          "metadata": {
            "tags": []
          },
          "execution_count": 23
        }
      ]
    },
    {
      "cell_type": "markdown",
      "metadata": {
        "id": "t-U0Xti64TFd"
      },
      "source": [
        "데이터의 갱신, 추가, 삭제"
      ]
    },
    {
      "cell_type": "code",
      "metadata": {
        "id": "D5VFbu004UhU"
      },
      "source": [
        ""
      ],
      "execution_count": null,
      "outputs": []
    }
  ]
}