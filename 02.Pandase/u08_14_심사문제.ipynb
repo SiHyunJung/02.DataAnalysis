{
  "nbformat": 4,
  "nbformat_minor": 0,
  "metadata": {
    "colab": {
      "name": "u08-14 심사문제.ipynb",
      "provenance": [],
      "collapsed_sections": []
    },
    "kernelspec": {
      "name": "python3",
      "display_name": "Python 3"
    },
    "language_info": {
      "name": "python"
    }
  },
  "cells": [
    {
      "cell_type": "markdown",
      "metadata": {
        "id": "kucJZLwfBSf_"
      },
      "source": [
        "### 8.5 합격여부 출력하기\n"
      ]
    },
    {
      "cell_type": "code",
      "metadata": {
        "id": "WdJCdLqABD9A"
      },
      "source": [
        "korean, english, math, science = input().split()\n",
        "print(int(korean)>=90 and int(english)>80 and int(math)>85 and int(science)>=80)"
      ],
      "execution_count": null,
      "outputs": []
    },
    {
      "cell_type": "markdown",
      "metadata": {
        "id": "lLpS7tzeBWqq"
      },
      "source": [
        "### 9.4 여러 줄로 된 문자열 사용하기"
      ]
    },
    {
      "cell_type": "code",
      "metadata": {
        "id": "lWMx3D0SBV5g"
      },
      "source": [
        "s = \"\"\"'Python' is a \"programming language\"\n",
        "that lets you work quickly \n",
        "and \n",
        "integrate systems more effectively.\"\"\"\n",
        "\n",
        "print(s)"
      ],
      "execution_count": null,
      "outputs": []
    },
    {
      "cell_type": "markdown",
      "metadata": {
        "id": "Oc5-xWTsBegc"
      },
      "source": [
        "### 10.5 range 로 튜플 만들기 "
      ]
    },
    {
      "cell_type": "code",
      "metadata": {
        "id": "90u_kxnRBeA6"
      },
      "source": [
        "x = int(input())\n",
        "a = tuple(range(-10, 10, x))"
      ],
      "execution_count": null,
      "outputs": []
    },
    {
      "cell_type": "markdown",
      "metadata": {
        "id": "XWnEC4IcBtV9"
      },
      "source": [
        "### 11.8 리스트의 마지막 부분 삭제하기"
      ]
    },
    {
      "cell_type": "code",
      "metadata": {
        "id": "IpbgupkABnhO"
      },
      "source": [
        "x = input().split()\n",
        "del x[-5:]\n",
        "\n",
        "print(tuple(x))"
      ],
      "execution_count": null,
      "outputs": []
    },
    {
      "cell_type": "markdown",
      "metadata": {
        "id": "qWVHiJBJCwhz"
      },
      "source": [
        "### 11.9 문자열에서 인덱스가 홀수인 문자와 짝수인 문자 연결하기"
      ]
    },
    {
      "cell_type": "code",
      "metadata": {
        "id": "PKVnQ6OoB38D"
      },
      "source": [
        "x = input\n",
        "y = input\n",
        "\n",
        "print (x[1:2] + y[::2])"
      ],
      "execution_count": null,
      "outputs": []
    },
    {
      "cell_type": "markdown",
      "metadata": {
        "id": "aPQQiS6TDFaQ"
      },
      "source": [
        "### 12.5 딕셔너리에 게임 캐릭터 능력치 저장하기"
      ]
    },
    {
      "cell_type": "code",
      "metadata": {
        "id": "XKoUp7VzDC82"
      },
      "source": [
        "a = input().split()\n",
        "b = map(float, input().split())\n",
        "x = dict(zip(a,b))\n",
        "\n",
        "print(x)"
      ],
      "execution_count": null,
      "outputs": []
    },
    {
      "cell_type": "code",
      "metadata": {
        "id": "ZBw9VaFqDQRX"
      },
      "source": [
        ""
      ],
      "execution_count": null,
      "outputs": []
    }
  ]
}